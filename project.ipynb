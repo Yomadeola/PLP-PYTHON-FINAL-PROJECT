{
 "cells": [
  {
   "cell_type": "code",
   "execution_count": 3,
   "id": "072d64d7",
   "metadata": {},
   "outputs": [],
   "source": [
    "import pandas as pd\n",
    "import matplotlib.pyplot as plt\n",
    "import seaborn as sns\n",
    "import geopandas as gpd"
   ]
  },
  {
   "cell_type": "code",
   "execution_count": 4,
   "id": "0a398ce8",
   "metadata": {},
   "outputs": [
    {
     "name": "stderr",
     "output_type": "stream",
     "text": [
      "C:\\Users\\USER\\AppData\\Local\\Temp\\ipykernel_7040\\3022230820.py:1: DtypeWarning: Columns (33) have mixed types. Specify dtype option on import or set low_memory=False.\n",
      "  df = pd.read_csv('owid-covid-data (1).csv')\n"
     ]
    },
    {
     "data": {
      "text/plain": [
       "Index(['iso_code', 'continent', 'location', 'date', 'total_cases', 'new_cases',\n",
       "       'new_cases_smoothed', 'total_deaths', 'new_deaths',\n",
       "       'new_deaths_smoothed', 'total_cases_per_million',\n",
       "       'new_cases_per_million', 'new_cases_smoothed_per_million',\n",
       "       'total_deaths_per_million', 'new_deaths_per_million',\n",
       "       'new_deaths_smoothed_per_million', 'reproduction_rate', 'icu_patients',\n",
       "       'icu_patients_per_million', 'hosp_patients',\n",
       "       'hosp_patients_per_million', 'weekly_icu_admissions',\n",
       "       'weekly_icu_admissions_per_million', 'weekly_hosp_admissions',\n",
       "       'weekly_hosp_admissions_per_million', 'total_tests', 'new_tests',\n",
       "       'total_tests_per_thousand', 'new_tests_per_thousand',\n",
       "       'new_tests_smoothed', 'new_tests_smoothed_per_thousand',\n",
       "       'positive_rate', 'tests_per_case', 'tests_units', 'total_vaccinations',\n",
       "       'people_vaccinated', 'people_fully_vaccinated', 'total_boosters',\n",
       "       'new_vaccinations', 'new_vaccinations_smoothed',\n",
       "       'total_vaccinations_per_hundred', 'people_vaccinated_per_hundred',\n",
       "       'people_fully_vaccinated_per_hundred', 'total_boosters_per_hundred',\n",
       "       'new_vaccinations_smoothed_per_million',\n",
       "       'new_people_vaccinated_smoothed',\n",
       "       'new_people_vaccinated_smoothed_per_hundred', 'stringency_index',\n",
       "       'population_density', 'median_age', 'aged_65_older', 'aged_70_older',\n",
       "       'gdp_per_capita', 'extreme_poverty', 'cardiovasc_death_rate',\n",
       "       'diabetes_prevalence', 'female_smokers', 'male_smokers',\n",
       "       'handwashing_facilities', 'hospital_beds_per_thousand',\n",
       "       'life_expectancy', 'human_development_index', 'population',\n",
       "       'excess_mortality_cumulative_absolute', 'excess_mortality_cumulative',\n",
       "       'excess_mortality', 'excess_mortality_cumulative_per_million'],\n",
       "      dtype='object')"
      ]
     },
     "execution_count": 4,
     "metadata": {},
     "output_type": "execute_result"
    }
   ],
   "source": [
    "df = pd.read_csv('owid-covid-data (1).csv')\n",
    "\n",
    "df.columns"
   ]
  },
  {
   "cell_type": "code",
   "execution_count": 5,
   "id": "be6f13f4",
   "metadata": {},
   "outputs": [
    {
     "data": {
      "text/html": [
       "<div>\n",
       "<style scoped>\n",
       "    .dataframe tbody tr th:only-of-type {\n",
       "        vertical-align: middle;\n",
       "    }\n",
       "\n",
       "    .dataframe tbody tr th {\n",
       "        vertical-align: top;\n",
       "    }\n",
       "\n",
       "    .dataframe thead th {\n",
       "        text-align: right;\n",
       "    }\n",
       "</style>\n",
       "<table border=\"1\" class=\"dataframe\">\n",
       "  <thead>\n",
       "    <tr style=\"text-align: right;\">\n",
       "      <th></th>\n",
       "      <th>iso_code</th>\n",
       "      <th>continent</th>\n",
       "      <th>location</th>\n",
       "      <th>date</th>\n",
       "      <th>total_cases</th>\n",
       "      <th>new_cases</th>\n",
       "      <th>new_cases_smoothed</th>\n",
       "      <th>total_deaths</th>\n",
       "      <th>new_deaths</th>\n",
       "      <th>new_deaths_smoothed</th>\n",
       "      <th>...</th>\n",
       "      <th>male_smokers</th>\n",
       "      <th>handwashing_facilities</th>\n",
       "      <th>hospital_beds_per_thousand</th>\n",
       "      <th>life_expectancy</th>\n",
       "      <th>human_development_index</th>\n",
       "      <th>population</th>\n",
       "      <th>excess_mortality_cumulative_absolute</th>\n",
       "      <th>excess_mortality_cumulative</th>\n",
       "      <th>excess_mortality</th>\n",
       "      <th>excess_mortality_cumulative_per_million</th>\n",
       "    </tr>\n",
       "  </thead>\n",
       "  <tbody>\n",
       "    <tr>\n",
       "      <th>0</th>\n",
       "      <td>AFG</td>\n",
       "      <td>Asia</td>\n",
       "      <td>Afghanistan</td>\n",
       "      <td>2020-01-05</td>\n",
       "      <td>0.0</td>\n",
       "      <td>0.0</td>\n",
       "      <td>NaN</td>\n",
       "      <td>0.0</td>\n",
       "      <td>0.0</td>\n",
       "      <td>NaN</td>\n",
       "      <td>...</td>\n",
       "      <td>NaN</td>\n",
       "      <td>37.746</td>\n",
       "      <td>0.5</td>\n",
       "      <td>64.83</td>\n",
       "      <td>0.511</td>\n",
       "      <td>41128772.0</td>\n",
       "      <td>NaN</td>\n",
       "      <td>NaN</td>\n",
       "      <td>NaN</td>\n",
       "      <td>NaN</td>\n",
       "    </tr>\n",
       "    <tr>\n",
       "      <th>1</th>\n",
       "      <td>AFG</td>\n",
       "      <td>Asia</td>\n",
       "      <td>Afghanistan</td>\n",
       "      <td>2020-01-06</td>\n",
       "      <td>0.0</td>\n",
       "      <td>0.0</td>\n",
       "      <td>NaN</td>\n",
       "      <td>0.0</td>\n",
       "      <td>0.0</td>\n",
       "      <td>NaN</td>\n",
       "      <td>...</td>\n",
       "      <td>NaN</td>\n",
       "      <td>37.746</td>\n",
       "      <td>0.5</td>\n",
       "      <td>64.83</td>\n",
       "      <td>0.511</td>\n",
       "      <td>41128772.0</td>\n",
       "      <td>NaN</td>\n",
       "      <td>NaN</td>\n",
       "      <td>NaN</td>\n",
       "      <td>NaN</td>\n",
       "    </tr>\n",
       "    <tr>\n",
       "      <th>2</th>\n",
       "      <td>AFG</td>\n",
       "      <td>Asia</td>\n",
       "      <td>Afghanistan</td>\n",
       "      <td>2020-01-07</td>\n",
       "      <td>0.0</td>\n",
       "      <td>0.0</td>\n",
       "      <td>NaN</td>\n",
       "      <td>0.0</td>\n",
       "      <td>0.0</td>\n",
       "      <td>NaN</td>\n",
       "      <td>...</td>\n",
       "      <td>NaN</td>\n",
       "      <td>37.746</td>\n",
       "      <td>0.5</td>\n",
       "      <td>64.83</td>\n",
       "      <td>0.511</td>\n",
       "      <td>41128772.0</td>\n",
       "      <td>NaN</td>\n",
       "      <td>NaN</td>\n",
       "      <td>NaN</td>\n",
       "      <td>NaN</td>\n",
       "    </tr>\n",
       "    <tr>\n",
       "      <th>3</th>\n",
       "      <td>AFG</td>\n",
       "      <td>Asia</td>\n",
       "      <td>Afghanistan</td>\n",
       "      <td>2020-01-08</td>\n",
       "      <td>0.0</td>\n",
       "      <td>0.0</td>\n",
       "      <td>NaN</td>\n",
       "      <td>0.0</td>\n",
       "      <td>0.0</td>\n",
       "      <td>NaN</td>\n",
       "      <td>...</td>\n",
       "      <td>NaN</td>\n",
       "      <td>37.746</td>\n",
       "      <td>0.5</td>\n",
       "      <td>64.83</td>\n",
       "      <td>0.511</td>\n",
       "      <td>41128772.0</td>\n",
       "      <td>NaN</td>\n",
       "      <td>NaN</td>\n",
       "      <td>NaN</td>\n",
       "      <td>NaN</td>\n",
       "    </tr>\n",
       "    <tr>\n",
       "      <th>4</th>\n",
       "      <td>AFG</td>\n",
       "      <td>Asia</td>\n",
       "      <td>Afghanistan</td>\n",
       "      <td>2020-01-09</td>\n",
       "      <td>0.0</td>\n",
       "      <td>0.0</td>\n",
       "      <td>NaN</td>\n",
       "      <td>0.0</td>\n",
       "      <td>0.0</td>\n",
       "      <td>NaN</td>\n",
       "      <td>...</td>\n",
       "      <td>NaN</td>\n",
       "      <td>37.746</td>\n",
       "      <td>0.5</td>\n",
       "      <td>64.83</td>\n",
       "      <td>0.511</td>\n",
       "      <td>41128772.0</td>\n",
       "      <td>NaN</td>\n",
       "      <td>NaN</td>\n",
       "      <td>NaN</td>\n",
       "      <td>NaN</td>\n",
       "    </tr>\n",
       "  </tbody>\n",
       "</table>\n",
       "<p>5 rows × 67 columns</p>\n",
       "</div>"
      ],
      "text/plain": [
       "  iso_code continent     location        date  total_cases  new_cases  \\\n",
       "0      AFG      Asia  Afghanistan  2020-01-05          0.0        0.0   \n",
       "1      AFG      Asia  Afghanistan  2020-01-06          0.0        0.0   \n",
       "2      AFG      Asia  Afghanistan  2020-01-07          0.0        0.0   \n",
       "3      AFG      Asia  Afghanistan  2020-01-08          0.0        0.0   \n",
       "4      AFG      Asia  Afghanistan  2020-01-09          0.0        0.0   \n",
       "\n",
       "   new_cases_smoothed  total_deaths  new_deaths  new_deaths_smoothed  ...  \\\n",
       "0                 NaN           0.0         0.0                  NaN  ...   \n",
       "1                 NaN           0.0         0.0                  NaN  ...   \n",
       "2                 NaN           0.0         0.0                  NaN  ...   \n",
       "3                 NaN           0.0         0.0                  NaN  ...   \n",
       "4                 NaN           0.0         0.0                  NaN  ...   \n",
       "\n",
       "   male_smokers  handwashing_facilities  hospital_beds_per_thousand  \\\n",
       "0           NaN                  37.746                         0.5   \n",
       "1           NaN                  37.746                         0.5   \n",
       "2           NaN                  37.746                         0.5   \n",
       "3           NaN                  37.746                         0.5   \n",
       "4           NaN                  37.746                         0.5   \n",
       "\n",
       "   life_expectancy  human_development_index  population  \\\n",
       "0            64.83                    0.511  41128772.0   \n",
       "1            64.83                    0.511  41128772.0   \n",
       "2            64.83                    0.511  41128772.0   \n",
       "3            64.83                    0.511  41128772.0   \n",
       "4            64.83                    0.511  41128772.0   \n",
       "\n",
       "   excess_mortality_cumulative_absolute  excess_mortality_cumulative  \\\n",
       "0                                   NaN                          NaN   \n",
       "1                                   NaN                          NaN   \n",
       "2                                   NaN                          NaN   \n",
       "3                                   NaN                          NaN   \n",
       "4                                   NaN                          NaN   \n",
       "\n",
       "   excess_mortality  excess_mortality_cumulative_per_million  \n",
       "0               NaN                                      NaN  \n",
       "1               NaN                                      NaN  \n",
       "2               NaN                                      NaN  \n",
       "3               NaN                                      NaN  \n",
       "4               NaN                                      NaN  \n",
       "\n",
       "[5 rows x 67 columns]"
      ]
     },
     "execution_count": 5,
     "metadata": {},
     "output_type": "execute_result"
    }
   ],
   "source": [
    "df.head()"
   ]
  },
  {
   "cell_type": "code",
   "execution_count": 6,
   "id": "a42ac695",
   "metadata": {},
   "outputs": [
    {
     "data": {
      "text/plain": [
       "iso_code                                        0\n",
       "continent                                    8066\n",
       "location                                        0\n",
       "date                                            0\n",
       "total_cases                                  3143\n",
       "                                            ...  \n",
       "population                                      1\n",
       "excess_mortality_cumulative_absolute       143063\n",
       "excess_mortality_cumulative                143063\n",
       "excess_mortality                           143063\n",
       "excess_mortality_cumulative_per_million    143063\n",
       "Length: 67, dtype: int64"
      ]
     },
     "execution_count": 6,
     "metadata": {},
     "output_type": "execute_result"
    }
   ],
   "source": [
    "df.isnull().sum()"
   ]
  },
  {
   "cell_type": "code",
   "execution_count": 7,
   "id": "f4ffbccd",
   "metadata": {},
   "outputs": [
    {
     "data": {
      "text/plain": [
       "location\n",
       "European Union (27)                3024\n",
       "Faroe Islands                      2068\n",
       "Asia                               1684\n",
       "Europe                             1684\n",
       "Czechia                            1682\n",
       "                                   ... \n",
       "Bonaire Sint Eustatius and Saba    1674\n",
       "Bolivia                            1674\n",
       "Bhutan                             1674\n",
       "England                            1359\n",
       "Greenland                           706\n",
       "Name: count, Length: 88, dtype: int64"
      ]
     },
     "execution_count": 7,
     "metadata": {},
     "output_type": "execute_result"
    }
   ],
   "source": [
    "df['location'].value_counts()"
   ]
  },
  {
   "cell_type": "code",
   "execution_count": 9,
   "id": "6ba6e48f",
   "metadata": {},
   "outputs": [
    {
     "name": "stdout",
     "output_type": "stream",
     "text": [
      "        iso_code continent location        date  total_cases  new_cases  \\\n",
      "20092   OWID_ASI       NaN     Asia  2020-01-05          1.0        1.0   \n",
      "20093   OWID_ASI       NaN     Asia  2020-01-06          1.0        0.0   \n",
      "20094   OWID_ASI       NaN     Asia  2020-01-07          1.0        0.0   \n",
      "20095   OWID_ASI       NaN     Asia  2020-01-08          1.0        0.0   \n",
      "20096   OWID_ASI       NaN     Asia  2020-01-09          1.0        0.0   \n",
      "...          ...       ...      ...         ...          ...        ...   \n",
      "120248  OWID_EUR       NaN   Europe  2024-08-10          NaN        NaN   \n",
      "120249  OWID_EUR       NaN   Europe  2024-08-11          NaN        NaN   \n",
      "120250  OWID_EUR       NaN   Europe  2024-08-12          NaN        NaN   \n",
      "120251  OWID_EUR       NaN   Europe  2024-08-13          NaN        NaN   \n",
      "120252  OWID_EUR       NaN   Europe  2024-08-14          NaN        NaN   \n",
      "\n",
      "        new_cases_smoothed  total_deaths  new_deaths  new_deaths_smoothed  \\\n",
      "20092                  NaN           0.0         0.0                  NaN   \n",
      "20093                  NaN           0.0         0.0                  NaN   \n",
      "20094                  NaN           0.0         0.0                  NaN   \n",
      "20095                  NaN           0.0         0.0                  NaN   \n",
      "20096                  NaN           0.0         0.0                  NaN   \n",
      "...                    ...           ...         ...                  ...   \n",
      "120248                 NaN           NaN         NaN                  NaN   \n",
      "120249                 NaN           NaN         NaN                  NaN   \n",
      "120250                 NaN           NaN         NaN                  NaN   \n",
      "120251                 NaN           NaN         NaN                  NaN   \n",
      "120252                 NaN           NaN         NaN                  NaN   \n",
      "\n",
      "        ...  male_smokers  handwashing_facilities  hospital_beds_per_thousand  \\\n",
      "20092   ...           NaN                     NaN                         NaN   \n",
      "20093   ...           NaN                     NaN                         NaN   \n",
      "20094   ...           NaN                     NaN                         NaN   \n",
      "20095   ...           NaN                     NaN                         NaN   \n",
      "20096   ...           NaN                     NaN                         NaN   \n",
      "...     ...           ...                     ...                         ...   \n",
      "120248  ...           NaN                     NaN                         NaN   \n",
      "120249  ...           NaN                     NaN                         NaN   \n",
      "120250  ...           NaN                     NaN                         NaN   \n",
      "120251  ...           NaN                     NaN                         NaN   \n",
      "120252  ...           NaN                     NaN                         NaN   \n",
      "\n",
      "        life_expectancy  human_development_index    population  \\\n",
      "20092               NaN                      NaN  4.721383e+09   \n",
      "20093               NaN                      NaN  4.721383e+09   \n",
      "20094               NaN                      NaN  4.721383e+09   \n",
      "20095               NaN                      NaN  4.721383e+09   \n",
      "20096               NaN                      NaN  4.721383e+09   \n",
      "...                 ...                      ...           ...   \n",
      "120248              NaN                      NaN  7.448078e+08   \n",
      "120249              NaN                      NaN  7.448078e+08   \n",
      "120250              NaN                      NaN  7.448078e+08   \n",
      "120251              NaN                      NaN  7.448078e+08   \n",
      "120252              NaN                      NaN  7.448078e+08   \n",
      "\n",
      "        excess_mortality_cumulative_absolute  excess_mortality_cumulative  \\\n",
      "20092                                    NaN                          NaN   \n",
      "20093                                    NaN                          NaN   \n",
      "20094                                    NaN                          NaN   \n",
      "20095                                    NaN                          NaN   \n",
      "20096                                    NaN                          NaN   \n",
      "...                                      ...                          ...   \n",
      "120248                                   NaN                          NaN   \n",
      "120249                                   NaN                          NaN   \n",
      "120250                                   NaN                          NaN   \n",
      "120251                                   NaN                          NaN   \n",
      "120252                                   NaN                          NaN   \n",
      "\n",
      "        excess_mortality  excess_mortality_cumulative_per_million  \n",
      "20092                NaN                                      NaN  \n",
      "20093                NaN                                      NaN  \n",
      "20094                NaN                                      NaN  \n",
      "20095                NaN                                      NaN  \n",
      "20096                NaN                                      NaN  \n",
      "...                  ...                                      ...  \n",
      "120248               NaN                                      NaN  \n",
      "120249               NaN                                      NaN  \n",
      "120250               NaN                                      NaN  \n",
      "120251               NaN                                      NaN  \n",
      "120252               NaN                                      NaN  \n",
      "\n",
      "[4727 rows x 67 columns]\n"
     ]
    }
   ],
   "source": [
    "countries_of_interest = ['England', 'Europe', 'Asia']\n",
    "filtered_df = df[df['location'].isin(countries_of_interest)]\n",
    "#filtered_df.head()  # Shows the top rows\n",
    "print(filtered_df)\n"
   ]
  },
  {
   "cell_type": "code",
   "execution_count": 10,
   "id": "b7899ac5",
   "metadata": {},
   "outputs": [],
   "source": [
    "df_cleaned = df.dropna()"
   ]
  },
  {
   "cell_type": "code",
   "execution_count": 14,
   "id": "851931d0",
   "metadata": {},
   "outputs": [],
   "source": [
    "df = pd.read_csv(\"owid-covid-data (1).csv\", na_values=[\"\", \" \", \"NA\", \"N/A\"], low_memory=False)\n",
    "df_cleaned = df.dropna()\n"
   ]
  },
  {
   "cell_type": "code",
   "execution_count": 15,
   "id": "156bd2cc",
   "metadata": {},
   "outputs": [
    {
     "data": {
      "text/plain": [
       "iso_code                                        0\n",
       "continent                                    8066\n",
       "location                                        0\n",
       "date                                            0\n",
       "total_cases                                  3143\n",
       "                                            ...  \n",
       "population                                      1\n",
       "excess_mortality_cumulative_absolute       143063\n",
       "excess_mortality_cumulative                143063\n",
       "excess_mortality                           143063\n",
       "excess_mortality_cumulative_per_million    143063\n",
       "Length: 67, dtype: int64"
      ]
     },
     "execution_count": 15,
     "metadata": {},
     "output_type": "execute_result"
    }
   ],
   "source": [
    "df.isnull().sum()"
   ]
  },
  {
   "cell_type": "code",
   "execution_count": null,
   "id": "7483c81f",
   "metadata": {},
   "outputs": [],
   "source": [
    "df['date'] = pd.to_datetime(df['date'], errors='coerce')   \n",
    "df = df.dropna(subset=['date'])    "
   ]
  },
  {
   "cell_type": "code",
   "execution_count": 29,
   "id": "0b32fba3",
   "metadata": {},
   "outputs": [],
   "source": [
    " \n",
    "df[df.select_dtypes(include='number').columns] = df.select_dtypes(include='number').fillna(0)\n",
    "\n"
   ]
  },
  {
   "cell_type": "code",
   "execution_count": 30,
   "id": "c81dd40e",
   "metadata": {},
   "outputs": [
    {
     "data": {
      "image/png": "[encoded data removed]",
      "text/plain": [
       "<Figure size 1000x500 with 1 Axes>"
      ]
     },
     "metadata": {},
     "output_type": "display_data"
    }
   ],
   "source": [
    "plt.figure(figsize=(10, 5))\n",
    "# plt.plot(grouped_data.index, grouped_data.values, marker='o')  # Use index and values of Series\n",
    "plt.title('total cases over time for selected countries')\n",
    "plt.xlabel(\"total_cases\")\n",
    "plt.ylabel(\"location\")\n",
    "plt.xticks(rotation=75)\n",
    "plt.tight_layout()\n",
    "plt.grid(True)\n",
    "plt.show()"
   ]
  },
  {
   "cell_type": "code",
   "execution_count": 31,
   "id": "cbda2084",
   "metadata": {},
   "outputs": [
    {
     "data": {
      "image/png": "[encoded data removed]",
      "text/plain": [
       "<Figure size 1000x500 with 1 Axes>"
      ]
     },
     "metadata": {},
     "output_type": "display_data"
    }
   ],
   "source": [
    "plt.figure(figsize=(10, 5))\n",
    "# plt.plot(grouped_data.index, grouped_data.values, marker='o')  # Use index and values of Series\n",
    "plt.title('total deaths over time')\n",
    "plt.xlabel(\"total_deaths\")\n",
    "plt.ylabel(\"date\")\n",
    "plt.xticks(rotation=75)\n",
    "plt.tight_layout()\n",
    "plt.grid(True)\n",
    "plt.show()\n"
   ]
  },
  {
   "cell_type": "code",
   "execution_count": null,
   "id": "4a2d059b",
   "metadata": {},
   "outputs": [],
   "source": [
    "# Plot total cases over time for selected countries.\n",
    "\n",
    "# Plot total deaths over time.\n",
    "\n",
    "# Compare daily new cases between countries.\n",
    "\n",
    "# Calculate the death rate: total_deaths / total_cases.\n",
    "grouped_data = data.groupby(\"total_deaths\")[\"total_cases\"].sort_values()\n",
    "\n",
    "plt.figure(figsize=(10, 5))\n",
    "# plt.plot(grouped_data.index, grouped_data.values, marker='o')  # Use index and values of Series\n",
    "plt.title('total deaths over time')\n",
    "plt.xlabel(\"total_deaths\")\n",
    "plt.ylabel(\"to\")\n",
    "plt.xticks(rotation=75)\n",
    "plt.tight_layout()\n",
    "plt.grid(True)\n",
    "plt.show()"
   ]
  },
  {
   "cell_type": "code",
   "execution_count": null,
   "id": "7bb4496a",
   "metadata": {},
   "outputs": [],
   "source": [
    "import pandas as pd\n",
    "\n",
    "df['date'] = pd.to_datetime(df['date'])\n",
    "\n",
    "# Get the latest date\n",
    "latest_date = df['date'].max()\n",
    "\n",
    "# Filter for the latest date and drop missing total_cases\n",
    "latest_df = df[df['date'] == latest_date][['iso_code', 'total_cases']].dropna()\n"
   ]
  },
  {
   "cell_type": "code",
   "execution_count": 37,
   "id": "980e84d6",
   "metadata": {},
   "outputs": [
    {
     "ename": "AttributeError",
     "evalue": "The geopandas.dataset has been deprecated and was removed in GeoPandas 1.0. New sample datasets are now available in the geodatasets package (https://geodatasets.readthedocs.io/en/latest/)",
     "output_type": "error",
     "traceback": [
      "\u001b[31m---------------------------------------------------------------------------\u001b[39m",
      "\u001b[31mAttributeError\u001b[39m                            Traceback (most recent call last)",
      "\u001b[36mCell\u001b[39m\u001b[36m \u001b[39m\u001b[32mIn[37]\u001b[39m\u001b[32m, line 4\u001b[39m\n\u001b[32m      1\u001b[39m \u001b[38;5;28;01mimport\u001b[39;00m\u001b[38;5;250m \u001b[39m\u001b[34;01mgeopandas\u001b[39;00m\u001b[38;5;250m \u001b[39m\u001b[38;5;28;01mas\u001b[39;00m\u001b[38;5;250m \u001b[39m\u001b[34;01mgpd\u001b[39;00m\n\u001b[32m      3\u001b[39m \u001b[38;5;66;03m# Load built-in world map (includes ISO codes)\u001b[39;00m\n\u001b[32m----> \u001b[39m\u001b[32m4\u001b[39m world = gpd.read_file(\u001b[43mgpd\u001b[49m\u001b[43m.\u001b[49m\u001b[43mdatasets\u001b[49m\u001b[43m.\u001b[49m\u001b[43mget_path\u001b[49m\u001b[43m(\u001b[49m\u001b[33;43m'\u001b[39;49m\u001b[33;43mowid-covid-data (1)..csv\u001b[39;49m\u001b[33;43m'\u001b[39;49m\u001b[43m)\u001b[49m)\n\u001b[32m      6\u001b[39m \u001b[38;5;66;03m# Make sure the ISO column matches (GeoPandas uses 'iso_a3')\u001b[39;00m\n\u001b[32m      7\u001b[39m world = world.rename(columns={\u001b[33m'\u001b[39m\u001b[33miso_a3\u001b[39m\u001b[33m'\u001b[39m: \u001b[33m'\u001b[39m\u001b[33miso_code\u001b[39m\u001b[33m'\u001b[39m})\n",
      "\u001b[36mFile \u001b[39m\u001b[32mc:\\Users\\USER\\AppData\\Local\\Programs\\Python\\Python313\\Lib\\site-packages\\geopandas\\datasets\\__init__.py:25\u001b[39m, in \u001b[36mget_path\u001b[39m\u001b[34m(dataset)\u001b[39m\n\u001b[32m     19\u001b[39m \u001b[38;5;28;01melse\u001b[39;00m:\n\u001b[32m     20\u001b[39m     error_msg = (\n\u001b[32m     21\u001b[39m         \u001b[33m\"\u001b[39m\u001b[33mThe geopandas.dataset has been deprecated and \u001b[39m\u001b[33m\"\u001b[39m\n\u001b[32m     22\u001b[39m         \u001b[33m\"\u001b[39m\u001b[33mwas removed in GeoPandas 1.0. New sample datasets are now available \u001b[39m\u001b[33m\"\u001b[39m\n\u001b[32m     23\u001b[39m         \u001b[33m\"\u001b[39m\u001b[33min the geodatasets package (https://geodatasets.readthedocs.io/en/latest/)\u001b[39m\u001b[33m\"\u001b[39m\n\u001b[32m     24\u001b[39m     )\n\u001b[32m---> \u001b[39m\u001b[32m25\u001b[39m     \u001b[38;5;28;01mraise\u001b[39;00m \u001b[38;5;167;01mAttributeError\u001b[39;00m(error_msg)\n",
      "\u001b[31mAttributeError\u001b[39m: The geopandas.dataset has been deprecated and was removed in GeoPandas 1.0. New sample datasets are now available in the geodatasets package (https://geodatasets.readthedocs.io/en/latest/)"
     ]
    }
   ],
   "source": [
    "import geopandas as gpd\n",
    "\n",
    "# Load built-in world map (includes ISO codes)\n",
    "world = gpd.read_file(gpd.datasets.get_path('owid-covid-data (1)..csv'))\n",
    "\n",
    "# Make sure the ISO column matches (GeoPandas uses 'iso_a3')\n",
    "world = world.rename(columns={'iso_a3': 'iso_code'})\n",
    "\n",
    "\n",
    "# Merge on iso_code\n",
    "merged = world.merge(latest_df, on='iso_code', how='left')\n",
    "\n",
    "\n",
    " \n",
    "\n",
    "fig, ax = plt.subplots(figsize=(15, 10))\n",
    "merged.plot(column='total_cases',\n",
    "            ax=ax,\n",
    "            legend=True,\n",
    "            cmap='Reds',\n",
    "            missing_kwds={\n",
    "                \"color\": \"lightgrey\",\n",
    "                \"label\": \"No data\"\n",
    "            })\n",
    "\n",
    "ax.set_title(f\"COVID-19 Total Cases by Country (as of {latest_date.date()})\", fontsize=16)\n",
    "ax.axis('off')\n",
    "plt.show()\n"
   ]
  }
 ],
 "metadata": {
  "kernelspec": {
   "display_name": "Python 3",
   "language": "python",
   "name": "python3"
  },
  "language_info": {
   "codemirror_mode": {
    "name": "ipython",
    "version": 3
   },
   "file_extension": ".py",
   "mimetype": "text/x-python",
   "name": "python",
   "nbconvert_exporter": "python",
   "pygments_lexer": "ipython3",
   "version": "3.13.3"
  }
 },
 "nbformat": 4,
 "nbformat_minor": 5
}
